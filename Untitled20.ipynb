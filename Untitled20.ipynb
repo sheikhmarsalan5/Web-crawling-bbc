{
 "cells": [
  {
   "cell_type": "code",
   "execution_count": 34,
   "metadata": {
    "collapsed": true
   },
   "outputs": [],
   "source": [
    "import numpy as np\n",
    "import json\n",
    "from sklearn.feature_extraction.text import TfidfTransformer\n",
    "import pandas as pd\n",
    "from scipy import sparse\n",
    "from sklearn.decomposition import PCA\n",
    "from sklearn.cluster import KMeans\n",
    "from pylab import *\n",
    "from scipy import *\n",
    "import matplotlib.pyplot as plt\n",
    "from pandas.io.json import json_normalize\n",
    "import nltk\n",
    "\n",
    "import numpy as np\n",
    "import pandas as pd\n",
    "import nltk\n",
    "import re\n",
    "import os\n",
    "import codecs\n",
    "from sklearn import feature_extraction\n",
    "import sys\n",
    "reload(sys)\n",
    "sys.setdefaultencoding('utf-8')\n",
    "\n",
    "nltk.download('punkt')\n",
    "nltk.download('stopwords')\n",
    "import csv"
   ]
  },
  {
   "cell_type": "code",
   "execution_count": 36,
   "metadata": {
    "collapsed": false
   },
   "outputs": [
    {
     "data": {
      "text/plain": [
       "[u'Sheet1']"
      ]
     },
     "execution_count": 36,
     "metadata": {},
     "output_type": "execute_result"
    }
   ],
   "source": [
    "#with open('C:/Users/sarsalan/Desktop/train.json') as data_file:    \n",
    " #   data = json.load(data_file)\n",
    "#with open('C:/Users/sarsalan/Downloads/New folder (3)/advisory.xlsx' , 'rb') as csvfile:\n",
    " #    data = csv.DictReader(csvfile)\n",
    "xl = pd.ExcelFile(\"C:/Users/sarsalan/Downloads/New folder (3)/advisory.xlsx\")\n",
    "xl.sheet_names      "
   ]
  },
  {
   "cell_type": "code",
   "execution_count": 37,
   "metadata": {
    "collapsed": false
   },
   "outputs": [
    {
     "data": {
      "text/html": [
       "<div>\n",
       "<style>\n",
       "    .dataframe thead tr:only-child th {\n",
       "        text-align: right;\n",
       "    }\n",
       "\n",
       "    .dataframe thead th {\n",
       "        text-align: left;\n",
       "    }\n",
       "\n",
       "    .dataframe tbody tr th {\n",
       "        vertical-align: top;\n",
       "    }\n",
       "</style>\n",
       "<table border=\"1\" class=\"dataframe\">\n",
       "  <thead>\n",
       "    <tr style=\"text-align: right;\">\n",
       "      <th></th>\n",
       "      <th>RFC_NO</th>\n",
       "      <th>CI_ID</th>\n",
       "      <th>RFC_REASON</th>\n",
       "    </tr>\n",
       "  </thead>\n",
       "  <tbody>\n",
       "    <tr>\n",
       "      <th>0</th>\n",
       "      <td>978050</td>\n",
       "      <td>SC2643766</td>\n",
       "      <td>This is an urgent request for immediate deploy...</td>\n",
       "    </tr>\n",
       "    <tr>\n",
       "      <th>1</th>\n",
       "      <td>978050</td>\n",
       "      <td>SC1889035</td>\n",
       "      <td>This is an urgent request for immediate deploy...</td>\n",
       "    </tr>\n",
       "    <tr>\n",
       "      <th>2</th>\n",
       "      <td>978050</td>\n",
       "      <td>SC1788269</td>\n",
       "      <td>This is an urgent request for immediate deploy...</td>\n",
       "    </tr>\n",
       "    <tr>\n",
       "      <th>3</th>\n",
       "      <td>978050</td>\n",
       "      <td>SC2564585</td>\n",
       "      <td>This is an urgent request for immediate deploy...</td>\n",
       "    </tr>\n",
       "    <tr>\n",
       "      <th>4</th>\n",
       "      <td>978050</td>\n",
       "      <td>SC2634883</td>\n",
       "      <td>This is an urgent request for immediate deploy...</td>\n",
       "    </tr>\n",
       "  </tbody>\n",
       "</table>\n",
       "</div>"
      ],
      "text/plain": [
       "   RFC_NO      CI_ID                                         RFC_REASON\n",
       "0  978050  SC2643766  This is an urgent request for immediate deploy...\n",
       "1  978050  SC1889035  This is an urgent request for immediate deploy...\n",
       "2  978050  SC1788269  This is an urgent request for immediate deploy...\n",
       "3  978050  SC2564585  This is an urgent request for immediate deploy...\n",
       "4  978050  SC2634883  This is an urgent request for immediate deploy..."
      ]
     },
     "execution_count": 37,
     "metadata": {},
     "output_type": "execute_result"
    }
   ],
   "source": [
    "df = xl.parse(\"Sheet1\")\n",
    "df.head()"
   ]
  },
  {
   "cell_type": "code",
   "execution_count": null,
   "metadata": {
    "collapsed": true
   },
   "outputs": [],
   "source": []
  }
 ],
 "metadata": {
  "kernelspec": {
   "display_name": "Python 2",
   "language": "python",
   "name": "python2"
  },
  "language_info": {
   "codemirror_mode": {
    "name": "ipython",
    "version": 2
   },
   "file_extension": ".py",
   "mimetype": "text/x-python",
   "name": "python",
   "nbconvert_exporter": "python",
   "pygments_lexer": "ipython2",
   "version": "2.7.13"
  }
 },
 "nbformat": 4,
 "nbformat_minor": 2
}
